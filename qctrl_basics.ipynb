{
 "cells": [
  {
   "attachments": {},
   "cell_type": "markdown",
   "metadata": {},
   "source": [
    "# QCTRL basics"
   ]
  },
  {
   "attachments": {},
   "cell_type": "markdown",
   "metadata": {},
   "source": [
    "### Introduction\n",
    "The most important thing to keep in mind while starting to use QCTRL is that it doesn't allow users to perform calculations on their personal machine. This means that every time we want the result of some operation we need to ask their servers to compute it.\n",
    "\n",
    "We can tell their servers which calculations to make by creating a \"graph\". You can think of a graph as a recepie that only QCTRL knows how to read.\n",
    "\n",
    "The typical qctrl workflow looks like this:\n",
    "- Create graph\n",
    "- Assign operations to the graph\n",
    "- Ask QCTRL to compute the graph\n",
    "- Extract the results\n",
    "\n",
    "The results obtained this way are not part of their recepie anymore and can be used as regualr python objects, like `numpy` arrays.\n",
    "\n",
    "IMPORTANT: QCTRL will only be able to return results that have a `name` field. See the first example for a clarification."
   ]
  },
  {
   "attachments": {},
   "cell_type": "markdown",
   "metadata": {},
   "source": [
    "### References\n",
    "[Documentation](https://docs.q-ctrl.com/boulder-opal/get-started)\n",
    "\n",
    "[API reference](https://docs.q-ctrl.com/boulder-opal/references/qctrl/Qctrl.html)"
   ]
  },
  {
   "attachments": {},
   "cell_type": "markdown",
   "metadata": {},
   "source": [
    "## First steps\n",
    "Before continuing make sure you have installed all the packages"
   ]
  },
  {
   "cell_type": "code",
   "execution_count": null,
   "metadata": {
    "vscode": {
     "languageId": "shellscript"
    }
   },
   "outputs": [],
   "source": [
    "pip install qctrl"
   ]
  },
  {
   "attachments": {},
   "cell_type": "markdown",
   "metadata": {},
   "source": [
    "### Imports"
   ]
  },
  {
   "cell_type": "code",
   "execution_count": 2,
   "metadata": {},
   "outputs": [],
   "source": [
    "import numpy as np\n",
    "import matplotlib.pyplot as plt\n",
    "import qctrlvisualizer\n",
    "from qctrl import Qctrl\n",
    "\n",
    "# Apply Q-CTRL style to plots created in pyplot.\n",
    "plt.style.use(qctrlvisualizer.get_qctrl_style())"
   ]
  },
  {
   "attachments": {},
   "cell_type": "markdown",
   "metadata": {},
   "source": [
    "### Start a session\n",
    "After importing we need to create a Boulder Opal senssion. Boulder Opal is the name of the product/library we are using. It's a good idea to keep this piece of code in a cell separated from the rest, because, each time it runs, it establishes a connection to QCTRL servers and it may take a few seconds.\n",
    "\n",
    "The first time you run this cell you'll be asked to log in. Just follow thier instructions."
   ]
  },
  {
   "cell_type": "code",
   "execution_count": 3,
   "metadata": {},
   "outputs": [],
   "source": [
    "# Start a Boulder Opal session.\n",
    "qctrl = Qctrl()"
   ]
  },
  {
   "attachments": {},
   "cell_type": "markdown",
   "metadata": {},
   "source": [
    "## Basic examples"
   ]
  },
  {
   "attachments": {},
   "cell_type": "markdown",
   "metadata": {},
   "source": [
    "### Learn about the general workflow with Fock states\n",
    "In this example we'll guide you through the general workflow and we'll do it by computing a simple Fock state.\n",
    "\n",
    "Consider a cavity and assume we want to describe it up to the dimension `c_dim = 5`. Our goal is to find the expression of Fock state $|1\\rangle$."
   ]
  },
  {
   "cell_type": "code",
   "execution_count": 6,
   "metadata": {},
   "outputs": [],
   "source": [
    "# Choose Hilber space simulation size\n",
    "c_dim = 5\n",
    "\n",
    "# Create a new graph\n",
    "graph = qctrl.create_graph()\n",
    "\n",
    "# Add the fock state to the graph\n",
    "psi = graph.fock_state(c_dim, 1)"
   ]
  },
  {
   "attachments": {},
   "cell_type": "markdown",
   "metadata": {},
   "source": [
    "You would expect to be able to use `psi` as a regular variable, but that's not the case. For example `psi` can NOT be printed, because right now we have only create a recepie for the calculation of the Fock state, we don't have the actual result.\n",
    "\n",
    "In order to find the result we need to give a name to this calculation, which can be done in different ways. Note that all the names withing a graph must be unique."
   ]
  },
  {
   "cell_type": "code",
   "execution_count": 8,
   "metadata": {},
   "outputs": [],
   "source": [
    "# Add a name to a pre-existing graph node\n",
    "psi.name = \"psi1\"\n",
    "\n",
    "# Assign the name directly during the definition\n",
    "psi = graph.fock_state(c_dim, 1, name=\"psi2\")"
   ]
  },
  {
   "attachments": {},
   "cell_type": "markdown",
   "metadata": {},
   "source": [
    "Now we need to send our recepie (`graph`) to QCTRL servers and wait for them to give us our result. Graphs can have many operations in them and we usually are not interested in retrieving the result for all of them. That's why we need to give names to the operations that we care about: this way we can specifically ask QCTRL to give us only those results. We specify these names in the `output_node_names` parameter."
   ]
  },
  {
   "cell_type": "code",
   "execution_count": 10,
   "metadata": {},
   "outputs": [
    {
     "data": {
      "application/vnd.jupyter.widget-view+json": {
       "model_id": "937d036ff6524556b040eec0c0e5325a",
       "version_major": 2,
       "version_minor": 0
      },
      "text/plain": [
       "  0%|          | 0/100 [00:00<?, ?it/s]"
      ]
     },
     "metadata": {},
     "output_type": "display_data"
    },
    {
     "name": "stdout",
     "output_type": "stream",
     "text": [
      "Your task calculate_graph (action_id=\"1674605\") has completed.\n"
     ]
    }
   ],
   "source": [
    "# Send graph to QCTRL and retrieve the result\n",
    "result = qctrl.functions.calculate_graph(\n",
    "    graph=graph,\n",
    "    output_node_names=[\"psi1\"]\n",
    ")"
   ]
  },
  {
   "attachments": {},
   "cell_type": "markdown",
   "metadata": {},
   "source": [
    "Now we can access the result of our computation as a regular `numpy` array."
   ]
  },
  {
   "cell_type": "code",
   "execution_count": 14,
   "metadata": {},
   "outputs": [
    {
     "data": {
      "text/plain": [
       "array([0.+0.j, 1.+0.j, 0.+0.j, 0.+0.j, 0.+0.j])"
      ]
     },
     "execution_count": 14,
     "metadata": {},
     "output_type": "execute_result"
    }
   ],
   "source": [
    "# Access the result\n",
    "result.output[\"psi1\"][\"value\"]"
   ]
  },
  {
   "attachments": {},
   "cell_type": "markdown",
   "metadata": {},
   "source": [
    "This is what the whole code looks like by putting everything together:"
   ]
  },
  {
   "cell_type": "code",
   "execution_count": 16,
   "metadata": {},
   "outputs": [
    {
     "data": {
      "application/vnd.jupyter.widget-view+json": {
       "model_id": "71d18688cae74bbfa85a3032a4350572",
       "version_major": 2,
       "version_minor": 0
      },
      "text/plain": [
       "  0%|          | 0/100 [00:00<?, ?it/s]"
      ]
     },
     "metadata": {},
     "output_type": "display_data"
    },
    {
     "name": "stdout",
     "output_type": "stream",
     "text": [
      "Your task calculate_graph (action_id=\"1674607\") has completed.\n"
     ]
    },
    {
     "data": {
      "text/plain": [
       "array([0.+0.j, 1.+0.j, 0.+0.j, 0.+0.j, 0.+0.j])"
      ]
     },
     "execution_count": 16,
     "metadata": {},
     "output_type": "execute_result"
    }
   ],
   "source": [
    "# Choose Hilber space simulation size\n",
    "c_dim = 5\n",
    "\n",
    "# Create a new graph\n",
    "graph = qctrl.create_graph()\n",
    "\n",
    "# Add the fock state to the graph\n",
    "psi = graph.fock_state(c_dim, 1, name=\"psi\")\n",
    "\n",
    "# Send graph to QCTRL and retrieve the result\n",
    "result = qctrl.functions.calculate_graph(\n",
    "    graph=graph,\n",
    "    output_node_names=[\"psi\"]\n",
    ")\n",
    "\n",
    "# Access the result\n",
    "result.output[\"psi\"][\"value\"]"
   ]
  },
  {
   "attachments": {},
   "cell_type": "markdown",
   "metadata": {},
   "source": [
    "### Learn about operations between graph nodes\n",
    "In the example above `psi` is a graph node and we know that before computing the graph its value can't be accessed. Does this mean that we need to create a graph for every step of our calculations? Thankfully no. We can make graph nodes talk between each other as we would for `numpy` arrays, but it's important to keep in mind that they are not.\n",
    "\n",
    "In the following example we'll create the coherent state with $\\alpha = 1$ from the vacuum state $|0\\rangle$ by applying the displacement operator $\\hat{D}(1)$."
   ]
  },
  {
   "cell_type": "code",
   "execution_count": 18,
   "metadata": {},
   "outputs": [],
   "source": [
    "# Choose Hilber space simulation size\n",
    "c_dim = 5\n",
    "\n",
    "# Create a new graph\n",
    "graph = qctrl.create_graph()\n",
    "\n",
    "# Define the vacuum state\n",
    "vacuum = graph.fock_state(c_dim, 0)\n",
    "\n",
    "# Define the displacement operator D(1)\n",
    "alpha = 1\n",
    "D1 = graph.displacement_operator(alpha, c_dim)"
   ]
  },
  {
   "attachments": {},
   "cell_type": "markdown",
   "metadata": {},
   "source": [
    "We have defined 2 graph nodes called `vacuum` and `D1`. Now we want to apply the displacement operator to the vacuum state. We can do it with a simple matrix multiplication.\n",
    "\n",
    "**IMPORTANT**: when multiplying a matrix and a vector we need to give the vector a temporary extra dimension (`[:,None]`). This means that the result of the operation will also have an extra dimension that we need to remove (`[:,0]`)."
   ]
  },
  {
   "cell_type": "code",
   "execution_count": 20,
   "metadata": {},
   "outputs": [],
   "source": [
    "# Compute the final state by explicitly calling the graph.matmul function\n",
    "psi = graph.matmul(D1, vacuum[:,None])\n",
    "\n",
    "# Alternative way to compute the final state using the @ sintactic sugar\n",
    "psi = D1 @ vacuum[:,None]\n",
    "\n",
    "# Remove the extra dimension from the result\n",
    "psi = psi[:,0]"
   ]
  },
  {
   "attachments": {},
   "cell_type": "markdown",
   "metadata": {},
   "source": [
    "QCTRL gives us the possibility to short the lengthy `graph.matmul` notation with just `@`. Note the two versions call the same exact function, but in the second case it's hidden for readability purposes.\n",
    "\n",
    "A third way to do the same is to use the `*` to execute the multiplication. This way there is no need to define a temporary dimension:"
   ]
  },
  {
   "cell_type": "code",
   "execution_count": null,
   "metadata": {},
   "outputs": [],
   "source": [
    "psi = D1 * vacuum"
   ]
  },
  {
   "attachments": {},
   "cell_type": "markdown",
   "metadata": {},
   "source": [
    "Now we just need to retrieve the results."
   ]
  },
  {
   "cell_type": "code",
   "execution_count": 21,
   "metadata": {},
   "outputs": [
    {
     "data": {
      "application/vnd.jupyter.widget-view+json": {
       "model_id": "dc7a7ef48c3d474bb5dc238ae6ae4402",
       "version_major": 2,
       "version_minor": 0
      },
      "text/plain": [
       "  0%|          | 0/100 [00:00<?, ?it/s]"
      ]
     },
     "metadata": {},
     "output_type": "display_data"
    },
    {
     "name": "stdout",
     "output_type": "stream",
     "text": [
      "Your task calculate_graph (action_id=\"1674609\") has completed.\n"
     ]
    },
    {
     "data": {
      "text/plain": [
       "array([0.60655682+3.87710697e-16j, 0.60628133-1.82145965e-15j,\n",
       "       0.4303874 -1.40859546e-15j, 0.24104351-8.32667268e-16j,\n",
       "       0.14552147-4.51028104e-16j])"
      ]
     },
     "execution_count": 21,
     "metadata": {},
     "output_type": "execute_result"
    }
   ],
   "source": [
    "# Assign a name to the grah node\n",
    "psi.name = \"psi\"\n",
    "\n",
    "# Send graph to QCTRL and retrieve the result\n",
    "result = qctrl.functions.calculate_graph(\n",
    "    graph=graph,\n",
    "    output_node_names=[\"psi\"]\n",
    ")\n",
    "\n",
    "# Access the result\n",
    "result.output[\"psi\"][\"value\"]"
   ]
  },
  {
   "attachments": {},
   "cell_type": "markdown",
   "metadata": {},
   "source": [
    "So by putting everything together we get"
   ]
  },
  {
   "cell_type": "code",
   "execution_count": 22,
   "metadata": {},
   "outputs": [
    {
     "data": {
      "application/vnd.jupyter.widget-view+json": {
       "model_id": "1d3491b95bf64b0c9a9d9a561b78a67d",
       "version_major": 2,
       "version_minor": 0
      },
      "text/plain": [
       "  0%|          | 0/100 [00:00<?, ?it/s]"
      ]
     },
     "metadata": {},
     "output_type": "display_data"
    },
    {
     "name": "stdout",
     "output_type": "stream",
     "text": [
      "Your task calculate_graph (action_id=\"1674610\") has completed.\n"
     ]
    },
    {
     "data": {
      "text/plain": [
       "array([0.60655682+3.87710697e-16j, 0.60628133-1.82145965e-15j,\n",
       "       0.4303874 -1.40859546e-15j, 0.24104351-8.32667268e-16j,\n",
       "       0.14552147-4.51028104e-16j])"
      ]
     },
     "execution_count": 22,
     "metadata": {},
     "output_type": "execute_result"
    }
   ],
   "source": [
    "# Choose Hilber space simulation size\n",
    "c_dim = 5\n",
    "\n",
    "# Create a new graph\n",
    "graph = qctrl.create_graph()\n",
    "\n",
    "# Define the vacuum state\n",
    "vacuum = graph.fock_state(c_dim, 0)\n",
    "\n",
    "# Define the displacement operator D(1)\n",
    "alpha = 1\n",
    "D1 = graph.displacement_operator(alpha, c_dim)\n",
    "\n",
    "# Compute the final state\n",
    "psi = D1 @ vacuum[:,None]\n",
    "psi = psi[:,0]\n",
    "psi.name = \"psi\"\n",
    "\n",
    "# Send graph to QCTRL and retrieve the result\n",
    "result = qctrl.functions.calculate_graph(\n",
    "    graph=graph,\n",
    "    output_node_names=[\"psi\"]\n",
    ")\n",
    "\n",
    "# Access the result\n",
    "result.output[\"psi\"][\"value\"]"
   ]
  },
  {
   "attachments": {},
   "cell_type": "markdown",
   "metadata": {},
   "source": [
    "### Relationship between `numpy` and `graph`\n",
    "It should be noted that `numpy` arrays and matrices can be used in operations with graph nodes, but the result will always be a graph node. This means that the result of the operation will be accessible only when the graph is computed.\n",
    "\n",
    "In this example we will multiply a the identity matrix $I$ by the vector representing Fock state $|0\\rangle$ only using `numpy` and a mix of QCTRL and `numpy`."
   ]
  },
  {
   "cell_type": "code",
   "execution_count": 29,
   "metadata": {},
   "outputs": [
    {
     "data": {
      "text/plain": [
       "array([[1.+0.j, 0.+0.j, 0.+0.j],\n",
       "       [0.+0.j, 0.+0.j, 0.+0.j],\n",
       "       [0.+0.j, 0.+0.j, 0.+0.j]])"
      ]
     },
     "execution_count": 29,
     "metadata": {},
     "output_type": "execute_result"
    }
   ],
   "source": [
    "# Only numpy\n",
    "I = np.eye(3)\n",
    "fock0 = np.array([1,0,0], dtype=\"complex\")\n",
    "I * fock0"
   ]
  },
  {
   "cell_type": "code",
   "execution_count": 28,
   "metadata": {},
   "outputs": [
    {
     "data": {
      "application/vnd.jupyter.widget-view+json": {
       "model_id": "e6a89419d6fc406c946cb99eadae6dad",
       "version_major": 2,
       "version_minor": 0
      },
      "text/plain": [
       "  0%|          | 0/100 [00:00<?, ?it/s]"
      ]
     },
     "metadata": {},
     "output_type": "display_data"
    },
    {
     "name": "stdout",
     "output_type": "stream",
     "text": [
      "Your task calculate_graph (action_id=\"1674611\") has completed.\n"
     ]
    },
    {
     "data": {
      "text/plain": [
       "array([[1.+0.j, 0.+0.j, 0.+0.j],\n",
       "       [0.+0.j, 0.+0.j, 0.+0.j],\n",
       "       [0.+0.j, 0.+0.j, 0.+0.j]])"
      ]
     },
     "execution_count": 28,
     "metadata": {},
     "output_type": "execute_result"
    }
   ],
   "source": [
    "# Mixed numpy - QCTRL\n",
    "\n",
    "I = np.eye(3)\n",
    "\n",
    "graph = qctrl.create_graph()\n",
    "fock0 = graph.fock_state(3,0)\n",
    "\n",
    "op = I * fock0\n",
    "op.name = \"op\"\n",
    "\n",
    "result = qctrl.functions.calculate_graph(\n",
    "    graph=graph,\n",
    "    output_node_names=[\"op\"]\n",
    ")\n",
    "\n",
    "result.output[\"op\"][\"value\"]"
   ]
  }
 ],
 "metadata": {
  "kernelspec": {
   "display_name": "base",
   "language": "python",
   "name": "python3"
  },
  "language_info": {
   "codemirror_mode": {
    "name": "ipython",
    "version": 3
   },
   "file_extension": ".py",
   "mimetype": "text/x-python",
   "name": "python",
   "nbconvert_exporter": "python",
   "pygments_lexer": "ipython3",
   "version": "3.9.13"
  },
  "orig_nbformat": 4
 },
 "nbformat": 4,
 "nbformat_minor": 2
}

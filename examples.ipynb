{
 "cells": [
  {
   "attachments": {},
   "cell_type": "markdown",
   "metadata": {},
   "source": [
    "# How to use helper functions"
   ]
  },
  {
   "attachments": {},
   "cell_type": "markdown",
   "metadata": {},
   "source": [
    "### General project setup\n",
    "We will base all of our exmaples on this base"
   ]
  },
  {
   "cell_type": "code",
   "execution_count": 9,
   "metadata": {},
   "outputs": [],
   "source": [
    "import numpy as np\n",
    "import matplotlib.pyplot as plt\n",
    "import qctrlvisualizer\n",
    "from qctrl import Qctrl\n",
    "\n",
    "# Apply Q-CTRL style to plots created in pyplot.\n",
    "plt.style.use(qctrlvisualizer.get_qctrl_style())"
   ]
  },
  {
   "cell_type": "code",
   "execution_count": 10,
   "metadata": {},
   "outputs": [],
   "source": [
    "# Start a Boulder Opal session.\n",
    "qctrl = Qctrl()"
   ]
  },
  {
   "attachments": {},
   "cell_type": "markdown",
   "metadata": {},
   "source": [
    "### Import helper functions"
   ]
  },
  {
   "cell_type": "code",
   "execution_count": 11,
   "metadata": {},
   "outputs": [],
   "source": [
    "# Import just a few funcitons\n",
    "# Function imported this way can be called directly\n",
    "from helpers import define_ladder_operators, find_highest_populated_state\n",
    "\n",
    "# Import the whole file\n",
    "# Functions imported this way need the qcrew. prefix\n",
    "import helpers as qcrew"
   ]
  },
  {
   "attachments": {},
   "cell_type": "markdown",
   "metadata": {},
   "source": [
    "### Find highest populated state"
   ]
  },
  {
   "cell_type": "code",
   "execution_count": 15,
   "metadata": {},
   "outputs": [
    {
     "data": {
      "application/vnd.jupyter.widget-view+json": {
       "model_id": "1588e3db0ecd46cb9d7a41beba93183a",
       "version_major": 2,
       "version_minor": 0
      },
      "text/plain": [
       "  0%|          | 0/100 [00:00<?, ?it/s]"
      ]
     },
     "metadata": {},
     "output_type": "display_data"
    },
    {
     "name": "stdout",
     "output_type": "stream",
     "text": [
      "Your task calculate_graph (action_id=\"1674602\") has completed.\n",
      "Highest populated state above the tolerance of 1e-6: 25\n",
      "Highest populated state above the tolerance of 1e-09: 32\n"
     ]
    }
   ],
   "source": [
    "# Dimension of the simulated Hilber space (c stands for \"cavity\")\n",
    "c_dim = 50\n",
    "\n",
    "# Define a new graph\n",
    "graph = qctrl.create_graph()\n",
    "\n",
    "# Create the coherent state with alpha = 2\n",
    "alpha = 2\n",
    "psi = graph.coherent_state(alpha, c_dim)\n",
    "psi.name = \"psi\"\n",
    "\n",
    "# Actually compute the expression of psi\n",
    "res = qctrl.functions.calculate_graph(graph=graph, output_node_names=[\"psi\"])\n",
    "psi_value = res.output[\"psi\"][\"value\"]\n",
    "\n",
    "# Call the helper function and print the result\n",
    "highest1 = find_highest_populated_state(psi_value)\n",
    "print(f\"Highest populated state above the tolerance of 1e-06: {highest1}\")\n",
    "\n",
    "# Call the function specifiying the tolerance. The default is 1e-6\n",
    "tolerance = 1e-9\n",
    "highest2 = find_highest_populated_state(psi_value, tolerance)\n",
    "print(f\"Highest populated state above the tolerance of {tolerance}: {highest2}\")"
   ]
  }
 ],
 "metadata": {
  "kernelspec": {
   "display_name": "base",
   "language": "python",
   "name": "python3"
  },
  "language_info": {
   "codemirror_mode": {
    "name": "ipython",
    "version": 3
   },
   "file_extension": ".py",
   "mimetype": "text/x-python",
   "name": "python",
   "nbconvert_exporter": "python",
   "pygments_lexer": "ipython3",
   "version": "3.9.13"
  },
  "orig_nbformat": 4
 },
 "nbformat": 4,
 "nbformat_minor": 2
}
